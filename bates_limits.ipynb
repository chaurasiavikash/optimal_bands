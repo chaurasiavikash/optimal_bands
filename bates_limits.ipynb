{
 "cells": [
  {
   "cell_type": "code",
   "execution_count": 1,
   "metadata": {},
   "outputs": [
    {
     "name": "stdout",
     "output_type": "stream",
     "text": [
      "\u001b[33mDEPRECATION: Configuring installation scheme with distutils config files is deprecated and will no longer work in the near future. If you are using a Homebrew or Linuxbrew Python, please see discussion at https://github.com/Homebrew/homebrew-core/issues/76621\u001b[0m\u001b[33m\n",
      "\u001b[0mRequirement already satisfied: numpy in /usr/local/lib/python3.9/site-packages (1.22.4)\n",
      "\u001b[33mDEPRECATION: Configuring installation scheme with distutils config files is deprecated and will no longer work in the near future. If you are using a Homebrew or Linuxbrew Python, please see discussion at https://github.com/Homebrew/homebrew-core/issues/76621\u001b[0m\u001b[33m\n",
      "\u001b[0m\n",
      "\u001b[1m[\u001b[0m\u001b[34;49mnotice\u001b[0m\u001b[1;39;49m]\u001b[0m\u001b[39;49m A new release of pip is available: \u001b[0m\u001b[31;49m23.3.1\u001b[0m\u001b[39;49m -> \u001b[0m\u001b[32;49m23.3.2\u001b[0m\n",
      "\u001b[1m[\u001b[0m\u001b[34;49mnotice\u001b[0m\u001b[1;39;49m]\u001b[0m\u001b[39;49m To update, run: \u001b[0m\u001b[32;49mpython3.9 -m pip install --upgrade pip\u001b[0m\n"
     ]
    }
   ],
   "source": [
    "!pip3 install numpy"
   ]
  },
  {
   "cell_type": "code",
   "execution_count": null,
   "metadata": {},
   "outputs": [],
   "source": [
    "python3.9 -m pip install --upgrade pip"
   ]
  },
  {
   "cell_type": "code",
   "execution_count": 3,
   "metadata": {},
   "outputs": [],
   "source": [
    "import numpy as np"
   ]
  },
  {
   "cell_type": "code",
   "execution_count": 5,
   "metadata": {},
   "outputs": [
    {
     "data": {
      "text/plain": [
       "0.3819660112501051"
      ]
     },
     "execution_count": 5,
     "metadata": {},
     "output_type": "execute_result"
    }
   ],
   "source": [
    "p = -3/2.0\n",
    "\n",
    "temp = -p -np.sqrt(p*p-1)\n",
    "temp"
   ]
  },
  {
   "cell_type": "code",
   "execution_count": 12,
   "metadata": {},
   "outputs": [
    {
     "name": "stdout",
     "output_type": "stream",
     "text": [
      "value of alpha is 0.37524713778565744\n",
      "value of beta is 1.5707963153937048\n"
     ]
    }
   ],
   "source": [
    "# Calculate tan(beta1)^2\n",
    "\n",
    "m1 = 2;\n",
    "n1 = -3;\n",
    "p = n1/m1;\n",
    "\n",
    "alpha = np.arccos(-p -np.sqrt(p*p-1))\n",
    "tan_beta1_squared = - (8 * m1 * np.sin(alpha)**2) / (2 * (4 * n1 * np.cos(alpha) + m1 * (3 + np.cos(2 * alpha))))\n",
    "\n",
    "# Since tan(beta1)^2 should be non-negative for real beta1, we check the value\n",
    "if tan_beta1_squared >= 0:\n",
    "    tan_beta1 = np.sqrt(tan_beta1_squared)\n",
    "    # Compute beta1 from tan(beta1), considering two possible angles whose tangent gives tan_beta1\n",
    "    beta1_1 = np.arctan(tan_beta1)\n",
    "    beta1_2 = np.arctan(tan_beta1) + np.pi\n",
    "else:\n",
    "    print(\"No real solution for beta1 under the given parameters.\")\n",
    "\n",
    "#beta = 0.543231791562653\n",
    "beta = beta1_1\n",
    "\n",
    "print(f\"value of alpha is {alpha/np.pi}\")\n",
    "print(f\"value of beta is {beta}\")"
   ]
  },
  {
   "cell_type": "code",
   "execution_count": null,
   "metadata": {},
   "outputs": [],
   "source": []
  }
 ],
 "metadata": {
  "kernelspec": {
   "display_name": "Python 3",
   "language": "python",
   "name": "python3"
  },
  "language_info": {
   "codemirror_mode": {
    "name": "ipython",
    "version": 3
   },
   "file_extension": ".py",
   "mimetype": "text/x-python",
   "name": "python",
   "nbconvert_exporter": "python",
   "pygments_lexer": "ipython3",
   "version": "3.9.16"
  }
 },
 "nbformat": 4,
 "nbformat_minor": 2
}
